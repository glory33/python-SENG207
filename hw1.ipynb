{
 "cells": [
  {
   "cell_type": "code",
   "execution_count": 2,
   "id": "88ab26d6",
   "metadata": {},
   "outputs": [
    {
     "name": "stdout",
     "output_type": "stream",
     "text": [
      "Enter the lengt of the farm5\n",
      "Enter the width of the farm6\n",
      "the area of the farm is30\n"
     ]
    }
   ],
   "source": [
    "#take input from the user\n",
    "length = input(\"Enter the lengt of the farm\")\n",
    "width = input(\"Enter the width of the farm\")\n",
    "\n",
    "# calculate the area in acres\n",
    "area =int(length) *int(width)\n",
    "\n",
    "#print the results\n",
    "print(f\"the area of the farm is{area}\")"
   ]
  },
  {
   "cell_type": "code",
   "execution_count": null,
   "id": "11f2464b",
   "metadata": {},
   "outputs": [],
   "source": []
  }
 ],
 "metadata": {
  "kernelspec": {
   "display_name": "Python 3 (ipykernel)",
   "language": "python",
   "name": "python3"
  },
  "language_info": {
   "codemirror_mode": {
    "name": "ipython",
    "version": 3
   },
   "file_extension": ".py",
   "mimetype": "text/x-python",
   "name": "python",
   "nbconvert_exporter": "python",
   "pygments_lexer": "ipython3",
   "version": "3.9.13"
  }
 },
 "nbformat": 4,
 "nbformat_minor": 5
}
